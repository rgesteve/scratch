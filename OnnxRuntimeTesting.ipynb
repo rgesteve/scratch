{
 "cells": [
  {
   "cell_type": "code",
   "execution_count": 2,
   "metadata": {},
   "outputs": [
    {
     "name": "stdout",
     "output_type": "stream",
     "text": [
      "Collecting onnxruntime\n",
      "\u001b[?25l  Downloading https://files.pythonhosted.org/packages/5f/69/12e7048508193cb9cebca27202c247cc847e75ab7894a21513debdb2d935/onnxruntime-0.4.0-cp37-cp37m-manylinux1_x86_64.whl (3.1MB)\n",
      "\u001b[K     |████████████████████████████████| 3.1MB 836kB/s eta 0:00:01\n",
      "\u001b[?25hInstalling collected packages: onnxruntime\n",
      "Successfully installed onnxruntime-0.4.0\n"
     ]
    }
   ],
   "source": [
    "!pip install onnxruntime"
   ]
  },
  {
   "cell_type": "code",
   "execution_count": 21,
   "metadata": {},
   "outputs": [
    {
     "name": "stdout",
     "output_type": "stream",
     "text": [
      "Collecting onnx\n",
      "\u001b[?25l  Downloading https://files.pythonhosted.org/packages/c4/f7/6bb9782e7020a21154182b5de2169ed9393cc065359515aa6fccecdad618/onnx-1.5.0-cp37-cp37m-manylinux1_x86_64.whl (7.0MB)\n",
      "\u001b[K     |████████████████████████████████| 7.1MB 417kB/s eta 0:00:01\n",
      "\u001b[?25hCollecting typing>=3.6.4 (from onnx)\n",
      "  Downloading https://files.pythonhosted.org/packages/28/b8/a1d6b7cf322f91305bcb5e7d8f6c3028954d1e3e716cddc1cdce2ac63247/typing-3.7.4-py3-none-any.whl\n",
      "Collecting typing-extensions>=3.6.2.1 (from onnx)\n",
      "  Downloading https://files.pythonhosted.org/packages/27/aa/bd1442cfb0224da1b671ab334d3b0a4302e4161ea916e28904ff9618d471/typing_extensions-3.7.4-py3-none-any.whl\n",
      "Requirement already satisfied: protobuf in /opt/conda/lib/python3.7/site-packages (from onnx) (3.7.1)\n",
      "Requirement already satisfied: numpy in /opt/conda/lib/python3.7/site-packages (from onnx) (1.15.4)\n",
      "Requirement already satisfied: six in /opt/conda/lib/python3.7/site-packages (from onnx) (1.12.0)\n",
      "Requirement already satisfied: setuptools in /opt/conda/lib/python3.7/site-packages (from protobuf->onnx) (41.0.1)\n",
      "Installing collected packages: typing, typing-extensions, onnx\n",
      "Successfully installed onnx-1.5.0 typing-3.7.4 typing-extensions-3.7.4\n"
     ]
    }
   ],
   "source": [
    "!pip install onnx"
   ]
  },
  {
   "cell_type": "code",
   "execution_count": 3,
   "metadata": {},
   "outputs": [],
   "source": [
    "import onnxruntime as ort\n",
    "import numpy as np\n",
    "from onnxruntime.datasets import get_example"
   ]
  },
  {
   "cell_type": "code",
   "execution_count": 4,
   "metadata": {},
   "outputs": [],
   "source": [
    "example1 = get_example(\"mul_1.pb\")"
   ]
  },
  {
   "cell_type": "code",
   "execution_count": 5,
   "metadata": {},
   "outputs": [],
   "source": [
    "s = ort.InferenceSession(example1)"
   ]
  },
  {
   "cell_type": "code",
   "execution_count": 6,
   "metadata": {},
   "outputs": [],
   "source": [
    "input_name = s.get_inputs()[0].name"
   ]
  },
  {
   "cell_type": "code",
   "execution_count": 7,
   "metadata": {},
   "outputs": [],
   "source": [
    "x = np.array([[1.0, 2.0],[3.0, 4.0],[5.0, 6.0]], dtype=np.float32)"
   ]
  },
  {
   "cell_type": "code",
   "execution_count": 8,
   "metadata": {},
   "outputs": [],
   "source": [
    "r = s.run(None, {input_name : x})"
   ]
  },
  {
   "cell_type": "code",
   "execution_count": 9,
   "metadata": {},
   "outputs": [
    {
     "data": {
      "text/plain": [
       "[array([[ 1.,  4.],\n",
       "        [ 9., 16.],\n",
       "        [25., 36.]], dtype=float32)]"
      ]
     },
     "execution_count": 9,
     "metadata": {},
     "output_type": "execute_result"
    }
   ],
   "source": [
    "r"
   ]
  },
  {
   "cell_type": "code",
   "execution_count": 10,
   "metadata": {},
   "outputs": [],
   "source": [
    "so = ort.SessionOptions()"
   ]
  },
  {
   "cell_type": "code",
   "execution_count": 11,
   "metadata": {},
   "outputs": [],
   "source": [
    "so.enable_profiling = True"
   ]
  },
  {
   "cell_type": "code",
   "execution_count": 12,
   "metadata": {},
   "outputs": [],
   "source": [
    "s1 = ort.InferenceSession(example1, so)"
   ]
  },
  {
   "cell_type": "code",
   "execution_count": 13,
   "metadata": {},
   "outputs": [],
   "source": [
    "input_name1 = s1.get_inputs()[0].name"
   ]
  },
  {
   "cell_type": "code",
   "execution_count": 14,
   "metadata": {},
   "outputs": [],
   "source": [
    "r1 = s1.run(None, {input_name : x})"
   ]
  },
  {
   "cell_type": "code",
   "execution_count": 15,
   "metadata": {},
   "outputs": [],
   "source": [
    "p = s1.end_profiling()"
   ]
  },
  {
   "cell_type": "code",
   "execution_count": 16,
   "metadata": {},
   "outputs": [
    {
     "name": "stdout",
     "output_type": "stream",
     "text": [
      "onnxruntime_profile__2019-06-28_04-34-11.json\n"
     ]
    }
   ],
   "source": [
    "print(p)"
   ]
  },
  {
   "cell_type": "code",
   "execution_count": 17,
   "metadata": {},
   "outputs": [],
   "source": [
    "import json"
   ]
  },
  {
   "cell_type": "code",
   "execution_count": 18,
   "metadata": {},
   "outputs": [],
   "source": [
    "with open(p, \"r\") as f:\n",
    "    sess_time = json.load(f)"
   ]
  },
  {
   "cell_type": "code",
   "execution_count": 19,
   "metadata": {},
   "outputs": [],
   "source": [
    "import pprint"
   ]
  },
  {
   "cell_type": "code",
   "execution_count": 20,
   "metadata": {},
   "outputs": [
    {
     "name": "stdout",
     "output_type": "stream",
     "text": [
      "[{'args': {},\n",
      "  'cat': 'Session',\n",
      "  'dur': 99,\n",
      "  'name': 'model_loading_uri',\n",
      "  'ph': 'X',\n",
      "  'pid': 18,\n",
      "  'tid': 18,\n",
      "  'ts': 13},\n",
      " {'args': {},\n",
      "  'cat': 'Session',\n",
      "  'dur': 93,\n",
      "  'name': 'session_initialization',\n",
      "  'ph': 'X',\n",
      "  'pid': 18,\n",
      "  'tid': 18,\n",
      "  'ts': 117},\n",
      " {'args': {'op_name': 'Mul'},\n",
      "  'cat': 'Node',\n",
      "  'dur': 6,\n",
      "  'name': 'mul_1_fence_before',\n",
      "  'ph': 'X',\n",
      "  'pid': 18,\n",
      "  'tid': 18,\n",
      "  'ts': 100409250},\n",
      " {'args': {'op_name': 'Mul'},\n",
      "  'cat': 'Node',\n",
      "  'dur': 37,\n",
      "  'name': 'mul_1_kernel_time',\n",
      "  'ph': 'X',\n",
      "  'pid': 18,\n",
      "  'tid': 18,\n",
      "  'ts': 100409268},\n",
      " {'args': {'op_name': 'Mul'},\n",
      "  'cat': 'Node',\n",
      "  'dur': 2,\n",
      "  'name': 'mul_1_fence_after',\n",
      "  'ph': 'X',\n",
      "  'pid': 18,\n",
      "  'tid': 18,\n",
      "  'ts': 100409314},\n",
      " {'args': {},\n",
      "  'cat': 'Session',\n",
      "  'dur': 89,\n",
      "  'name': 'SequentialExecutor::Execute',\n",
      "  'ph': 'X',\n",
      "  'pid': 18,\n",
      "  'tid': 18,\n",
      "  'ts': 100409239},\n",
      " {'args': {},\n",
      "  'cat': 'Session',\n",
      "  'dur': 115,\n",
      "  'name': 'model_run',\n",
      "  'ph': 'X',\n",
      "  'pid': 18,\n",
      "  'tid': 18,\n",
      "  'ts': 100409224}]\n"
     ]
    }
   ],
   "source": [
    "pprint.pprint(sess_time)"
   ]
  },
  {
   "cell_type": "code",
   "execution_count": 22,
   "metadata": {},
   "outputs": [],
   "source": [
    "# read in test data protobuf files included with the model\n",
    "import onnx\n",
    "from onnx import numpy_helper"
   ]
  },
  {
   "cell_type": "code",
   "execution_count": 25,
   "metadata": {},
   "outputs": [],
   "source": [
    "import os"
   ]
  },
  {
   "cell_type": "code",
   "execution_count": 26,
   "metadata": {},
   "outputs": [],
   "source": [
    "tdata_idx = 1"
   ]
  },
  {
   "cell_type": "code",
   "execution_count": 27,
   "metadata": {},
   "outputs": [],
   "source": [
    "tensor = onnx.TensorProto()\n",
    "with open(os.path.join(f'/data/mnist/test_data_set_{tdata_idx}/input_0.pb'), 'rb') as f:\n",
    "    tensor.ParseFromString(f.read())\n",
    "input_data = numpy_helper.to_array(tensor)"
   ]
  },
  {
   "cell_type": "code",
   "execution_count": 28,
   "metadata": {},
   "outputs": [],
   "source": [
    "sopts = ort.SessionOptions()\n",
    "sopts.enable_profiling = True"
   ]
  },
  {
   "cell_type": "code",
   "execution_count": 29,
   "metadata": {},
   "outputs": [],
   "source": [
    "sess = ort.InferenceSession('/data/mnist/model.onnx', sopts)"
   ]
  },
  {
   "cell_type": "code",
   "execution_count": 30,
   "metadata": {},
   "outputs": [],
   "source": [
    "in_name = sess.get_inputs()[0].name"
   ]
  },
  {
   "cell_type": "code",
   "execution_count": 31,
   "metadata": {},
   "outputs": [],
   "source": [
    "out_name = sess.get_outputs()[0].name"
   ]
  },
  {
   "cell_type": "code",
   "execution_count": 32,
   "metadata": {},
   "outputs": [],
   "source": [
    "r = sess.run([out_name], {in_name : input_data})"
   ]
  },
  {
   "cell_type": "code",
   "execution_count": 33,
   "metadata": {},
   "outputs": [],
   "source": [
    "perf = sess.end_profiling()"
   ]
  },
  {
   "cell_type": "code",
   "execution_count": 34,
   "metadata": {},
   "outputs": [],
   "source": [
    "with open(perf, \"r\") as f:\n",
    "    sess_time = json.load(f)"
   ]
  },
  {
   "cell_type": "code",
   "execution_count": 36,
   "metadata": {},
   "outputs": [
    {
     "data": {
      "text/plain": [
       "40"
      ]
     },
     "execution_count": 36,
     "metadata": {},
     "output_type": "execute_result"
    }
   ],
   "source": [
    "len(sess_time)"
   ]
  },
  {
   "cell_type": "code",
   "execution_count": 37,
   "metadata": {},
   "outputs": [],
   "source": [
    "import functools, itertools"
   ]
  },
  {
   "cell_type": "code",
   "execution_count": 40,
   "metadata": {},
   "outputs": [],
   "source": [
    "different_keys = functools.reduce(set.union, [set(rec.keys()) for rec in sess_time], set())"
   ]
  },
  {
   "cell_type": "code",
   "execution_count": 41,
   "metadata": {},
   "outputs": [
    {
     "data": {
      "text/plain": [
       "{'args', 'cat', 'dur', 'name', 'ph', 'pid', 'tid', 'ts'}"
      ]
     },
     "execution_count": 41,
     "metadata": {},
     "output_type": "execute_result"
    }
   ],
   "source": [
    "different_keys"
   ]
  },
  {
   "cell_type": "code",
   "execution_count": 42,
   "metadata": {},
   "outputs": [
    {
     "data": {
      "text/plain": [
       "{'Node', 'Session'}"
      ]
     },
     "execution_count": 42,
     "metadata": {},
     "output_type": "execute_result"
    }
   ],
   "source": [
    "set(rec['cat'] for rec in sess_time)"
   ]
  },
  {
   "cell_type": "code",
   "execution_count": 46,
   "metadata": {},
   "outputs": [
    {
     "data": {
      "text/plain": [
       "True"
      ]
     },
     "execution_count": 46,
     "metadata": {},
     "output_type": "execute_result"
    }
   ],
   "source": [
    "all(('op_name' in rec['args']) for rec in sess_time if rec['cat'] == 'Node')"
   ]
  },
  {
   "cell_type": "code",
   "execution_count": 52,
   "metadata": {},
   "outputs": [
    {
     "data": {
      "text/plain": [
       "[{'name': 'Convolution28_fence_before/Conv', 'dur': 6},\n",
       " {'name': 'Convolution28_kernel_time/Conv', 'dur': 1702},\n",
       " {'name': 'Convolution28_fence_after/Conv', 'dur': 3},\n",
       " {'name': 'Plus30_fence_before/Add', 'dur': 3},\n",
       " {'name': 'Plus30_kernel_time/Add', 'dur': 24},\n",
       " {'name': 'Plus30_fence_after/Add', 'dur': 2},\n",
       " {'name': 'ReLU32_fence_before/Relu', 'dur': 3},\n",
       " {'name': 'ReLU32_kernel_time/Relu', 'dur': 9},\n",
       " {'name': 'ReLU32_fence_after/Relu', 'dur': 2},\n",
       " {'name': 'Pooling66_fence_before/MaxPool', 'dur': 2},\n",
       " {'name': 'Pooling66_kernel_time/MaxPool', 'dur': 31},\n",
       " {'name': 'Pooling66_fence_after/MaxPool', 'dur': 2},\n",
       " {'name': 'Convolution110_fence_before/Conv', 'dur': 3},\n",
       " {'name': 'Convolution110_kernel_time/Conv', 'dur': 123},\n",
       " {'name': 'Convolution110_fence_after/Conv', 'dur': 2},\n",
       " {'name': 'Plus112_fence_before/Add', 'dur': 2},\n",
       " {'name': 'Plus112_kernel_time/Add', 'dur': 13},\n",
       " {'name': 'Plus112_fence_after/Add', 'dur': 2},\n",
       " {'name': 'ReLU114_fence_before/Relu', 'dur': 2},\n",
       " {'name': 'ReLU114_kernel_time/Relu', 'dur': 6},\n",
       " {'name': 'ReLU114_fence_after/Relu', 'dur': 2},\n",
       " {'name': 'Pooling160_fence_before/MaxPool', 'dur': 2},\n",
       " {'name': 'Pooling160_kernel_time/MaxPool', 'dur': 16},\n",
       " {'name': 'Pooling160_fence_after/MaxPool', 'dur': 2},\n",
       " {'name': 'Times212_reshape0_fence_before/Reshape', 'dur': 3},\n",
       " {'name': 'Times212_reshape0_kernel_time/Reshape', 'dur': 4},\n",
       " {'name': 'Times212_reshape0_fence_after/Reshape', 'dur': 2},\n",
       " {'name': 'Times212_reshape1_fence_before/Reshape', 'dur': 2},\n",
       " {'name': 'Times212_reshape1_kernel_time/Reshape', 'dur': 3},\n",
       " {'name': 'Times212_reshape1_fence_after/Reshape', 'dur': 2},\n",
       " {'name': 'Times212_fence_before/MatMul', 'dur': 2},\n",
       " {'name': 'Times212_kernel_time/MatMul', 'dur': 13},\n",
       " {'name': 'Times212_fence_after/MatMul', 'dur': 2},\n",
       " {'name': 'Plus214_fence_before/Add', 'dur': 2},\n",
       " {'name': 'Plus214_kernel_time/Add', 'dur': 19},\n",
       " {'name': 'Plus214_fence_after/Add', 'dur': 2}]"
      ]
     },
     "execution_count": 52,
     "metadata": {},
     "output_type": "execute_result"
    }
   ],
   "source": [
    "[{ \"name\" : f\"{rec['name']}/{rec['args']['op_name']}\", \"dur\" : rec[\"dur\"] }  for rec in sess_time if rec[\"cat\"] == \"Node\" ]"
   ]
  },
  {
   "cell_type": "code",
   "execution_count": null,
   "metadata": {},
   "outputs": [],
   "source": []
  }
 ],
 "metadata": {
  "kernelspec": {
   "display_name": "Python 3",
   "language": "python",
   "name": "python3"
  }
 },
 "nbformat": 4,
 "nbformat_minor": 2
}
